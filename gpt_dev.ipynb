{
  "nbformat": 4,
  "nbformat_minor": 0,
  "metadata": {
    "colab": {
      "provenance": [],
      "gpuType": "T4",
      "include_colab_link": true
    },
    "kernelspec": {
      "name": "python3",
      "display_name": "Python 3"
    },
    "language_info": {
      "name": "python"
    },
    "accelerator": "GPU"
  },
  "cells": [
    {
      "cell_type": "markdown",
      "metadata": {
        "id": "view-in-github",
        "colab_type": "text"
      },
      "source": [
        "<a href=\"https://colab.research.google.com/github/Lilo-Denise/1710-hw4-Lilo-Denise/blob/main/gpt_dev.ipynb\" target=\"_parent\"><img src=\"https://colab.research.google.com/assets/colab-badge.svg\" alt=\"Open In Colab\"/></a>"
      ]
    },
    {
      "cell_type": "markdown",
      "source": [
        "## Building a GPT\n",
        "\n",
        "Companion notebook to the [Zero To Hero](https://karpathy.ai/zero-to-hero.html) video on GPT."
      ],
      "metadata": {
        "id": "wJpXpmjEYC_T"
      }
    },
    {
      "cell_type": "code",
      "execution_count": 2,
      "metadata": {
        "colab": {
          "base_uri": "https://localhost:8080/",
          "height": 0
        },
        "id": "h5hjCcLDr2WC",
        "outputId": "821f98fb-5294-422b-b440-bdd379b82136"
      },
      "outputs": [
        {
          "output_type": "stream",
          "name": "stdout",
          "text": [
            "--2025-10-06 00:11:11--  https://raw.githubusercontent.com/karpathy/char-rnn/master/data/tinyshakespeare/input.txt\n",
            "Resolving raw.githubusercontent.com (raw.githubusercontent.com)... 185.199.108.133, 185.199.109.133, 185.199.110.133, ...\n",
            "Connecting to raw.githubusercontent.com (raw.githubusercontent.com)|185.199.108.133|:443... connected.\n",
            "HTTP request sent, awaiting response... 200 OK\n",
            "Length: 1115394 (1.1M) [text/plain]\n",
            "Saving to: ‘input.txt’\n",
            "\n",
            "\rinput.txt             0%[                    ]       0  --.-KB/s               \rinput.txt           100%[===================>]   1.06M  --.-KB/s    in 0.02s   \n",
            "\n",
            "2025-10-06 00:11:11 (56.3 MB/s) - ‘input.txt’ saved [1115394/1115394]\n",
            "\n"
          ]
        }
      ],
      "source": [
        "# We always start with a dataset to train on. Let's download the tiny shakespeare dataset\n",
        "#!wget https://raw.githubusercontent.com/karpathy/char-rnn/master/data/tinyshakespeare/input.txt"
      ]
    },
    {
      "cell_type": "code",
      "source": [
        "# Use my own corpus instead of Shakespeare\n",
        "path = \"/content/the_great_gatsby.txt\"\n",
        "\n",
        "with open(path, \"r\", encoding=\"utf-8\", errors=\"ignore\") as f:\n",
        "    text = f.read()\n",
        "\n",
        "print(\"Loaded chars:\", len(text))\n",
        "print(text[:500])  # quick preview\n"
      ],
      "metadata": {
        "id": "5fWXbDySBiSL",
        "outputId": "301f2611-8895-4790-e285-d0253d22d5af",
        "colab": {
          "base_uri": "https://localhost:8080/",
          "height": 0
        }
      },
      "execution_count": 20,
      "outputs": [
        {
          "output_type": "stream",
          "name": "stdout",
          "text": [
            "Loaded chars: 1602\n",
            "The Great Gatsby\n",
            "by F. Scott Fitzgerald (1925)\n",
            "\n",
            "Chapter 1\n",
            "In my younger and more vulnerable years my father gave me some advice that I've been turning over in my mind ever since.\n",
            "\"Whenever you feel like criticizing any one,\" he told me, \"just remember that all the people in this world haven't had the advantages that you've had.\"\n",
            "\n",
            "He didn't say any more but we've always been unusually communicative in a reserved way, and I understood that he meant a great deal more than that.\n",
            "In consequence, I'm \n"
          ]
        }
      ]
    },
    {
      "cell_type": "code",
      "source": [
        "# read it in to inspect it\n",
        "#with open('input.txt', 'r', encoding='utf-8') as f:\n",
        " #   text = f.read()"
      ],
      "metadata": {
        "id": "O6medjfRsLD9"
      },
      "execution_count": 3,
      "outputs": []
    },
    {
      "cell_type": "code",
      "source": [
        "print(\"length of dataset in characters: \", len(text))"
      ],
      "metadata": {
        "colab": {
          "base_uri": "https://localhost:8080/",
          "height": 0
        },
        "id": "6xWI_VyAsN8F",
        "outputId": "9ada9476-6711-4033-b180-23ea843d2d02"
      },
      "execution_count": 21,
      "outputs": [
        {
          "output_type": "stream",
          "name": "stdout",
          "text": [
            "length of dataset in characters:  1602\n"
          ]
        }
      ]
    },
    {
      "cell_type": "code",
      "source": [
        "# let's look at the first 1000 characters\n",
        "print(text[:1000])"
      ],
      "metadata": {
        "colab": {
          "base_uri": "https://localhost:8080/",
          "height": 0
        },
        "id": "2c5V0FvqseE0",
        "outputId": "07f59e90-5ec7-4925-d8ea-e9c510e1f3bf"
      },
      "execution_count": 22,
      "outputs": [
        {
          "output_type": "stream",
          "name": "stdout",
          "text": [
            "The Great Gatsby\n",
            "by F. Scott Fitzgerald (1925)\n",
            "\n",
            "Chapter 1\n",
            "In my younger and more vulnerable years my father gave me some advice that I've been turning over in my mind ever since.\n",
            "\"Whenever you feel like criticizing any one,\" he told me, \"just remember that all the people in this world haven't had the advantages that you've had.\"\n",
            "\n",
            "He didn't say any more but we've always been unusually communicative in a reserved way, and I understood that he meant a great deal more than that.\n",
            "In consequence, I'm inclined to reserve all judgments, a habit that has opened up many curious natures to me and also made me the victim of not a few veteran bores.\n",
            "The abnormal mind is quick to detect and attach itself to this quality when it appears in a normal person, and so it came about that in college I was unjustly accused of being a politician, because I was privy to the secret griefs of wild, unknown men.\n",
            "Most of the confidences were unsought—frequently I have feigned sleep, preoccupation, or a hostile lev\n"
          ]
        }
      ]
    },
    {
      "cell_type": "code",
      "source": [
        "# here are all the unique characters that occur in this text\n",
        "chars = sorted(list(set(text)))\n",
        "vocab_size = len(chars)\n",
        "print(''.join(chars))\n",
        "print(vocab_size)"
      ],
      "metadata": {
        "colab": {
          "base_uri": "https://localhost:8080/",
          "height": 0
        },
        "id": "0e-Rbyr8sfM8",
        "outputId": "a8fed29d-408a-4d57-d766-a215cb1dd0c9"
      },
      "execution_count": 23,
      "outputs": [
        {
          "output_type": "stream",
          "name": "stdout",
          "text": [
            "\n",
            " \"'(),-.1259;CEFGHIMRSTW[]abcdefghijklmnopqrstuvwxyz—\n",
            "54\n"
          ]
        }
      ]
    },
    {
      "cell_type": "code",
      "source": [
        "# create a mapping from characters to integers\n",
        "stoi = { ch:i for i,ch in enumerate(chars) }\n",
        "itos = { i:ch for i,ch in enumerate(chars) }\n",
        "encode = lambda s: [stoi[c] for c in s] # encoder: take a string, output a list of integers\n",
        "decode = lambda l: ''.join([itos[i] for i in l]) # decoder: take a list of integers, output a string\n",
        "\n",
        "print(encode(\"hii there\"))\n",
        "print(decode(encode(\"hii there\")))"
      ],
      "metadata": {
        "colab": {
          "base_uri": "https://localhost:8080/",
          "height": 0
        },
        "id": "Yw1LKNCgwjj1",
        "outputId": "aaf6ed20-ca94-4786-b157-5946c63b3bfd"
      },
      "execution_count": 24,
      "outputs": [
        {
          "output_type": "stream",
          "name": "stdout",
          "text": [
            "[34, 35, 35, 1, 46, 34, 31, 44, 31]\n",
            "hii there\n"
          ]
        }
      ]
    },
    {
      "cell_type": "code",
      "source": [
        "# let's now encode the entire text dataset and store it into a torch.Tensor\n",
        "import torch # we use PyTorch: https://pytorch.org\n",
        "data = torch.tensor(encode(text), dtype=torch.long)\n",
        "print(data.shape, data.dtype)\n",
        "print(data[:1000]) # the 1000 characters we looked at earier will to the GPT look like this"
      ],
      "metadata": {
        "colab": {
          "base_uri": "https://localhost:8080/",
          "height": 0
        },
        "id": "YJb0OXPwzvqg",
        "outputId": "1dd6fb69-16de-4a1f-d2a2-6241e3ba1edd"
      },
      "execution_count": 25,
      "outputs": [
        {
          "output_type": "stream",
          "name": "stdout",
          "text": [
            "torch.Size([1602]) torch.int64\n",
            "tensor([23, 34, 31,  1, 17, 44, 31, 27, 46,  1, 17, 27, 46, 45, 28, 51,  0, 28,\n",
            "        51,  1, 16,  8,  1, 22, 29, 41, 46, 46,  1, 16, 35, 46, 52, 33, 31, 44,\n",
            "        27, 38, 30,  1,  4,  9, 12, 10, 11,  5,  0,  0, 14, 34, 27, 42, 46, 31,\n",
            "        44,  1,  9,  0, 19, 40,  1, 39, 51,  1, 51, 41, 47, 40, 33, 31, 44,  1,\n",
            "        27, 40, 30,  1, 39, 41, 44, 31,  1, 48, 47, 38, 40, 31, 44, 27, 28, 38,\n",
            "        31,  1, 51, 31, 27, 44, 45,  1, 39, 51,  1, 32, 27, 46, 34, 31, 44,  1,\n",
            "        33, 27, 48, 31,  1, 39, 31,  1, 45, 41, 39, 31,  1, 27, 30, 48, 35, 29,\n",
            "        31,  1, 46, 34, 27, 46,  1, 19,  3, 48, 31,  1, 28, 31, 31, 40,  1, 46,\n",
            "        47, 44, 40, 35, 40, 33,  1, 41, 48, 31, 44,  1, 35, 40,  1, 39, 51,  1,\n",
            "        39, 35, 40, 30,  1, 31, 48, 31, 44,  1, 45, 35, 40, 29, 31,  8,  0,  2,\n",
            "        24, 34, 31, 40, 31, 48, 31, 44,  1, 51, 41, 47,  1, 32, 31, 31, 38,  1,\n",
            "        38, 35, 37, 31,  1, 29, 44, 35, 46, 35, 29, 35, 52, 35, 40, 33,  1, 27,\n",
            "        40, 51,  1, 41, 40, 31,  6,  2,  1, 34, 31,  1, 46, 41, 38, 30,  1, 39,\n",
            "        31,  6,  1,  2, 36, 47, 45, 46,  1, 44, 31, 39, 31, 39, 28, 31, 44,  1,\n",
            "        46, 34, 27, 46,  1, 27, 38, 38,  1, 46, 34, 31,  1, 42, 31, 41, 42, 38,\n",
            "        31,  1, 35, 40,  1, 46, 34, 35, 45,  1, 49, 41, 44, 38, 30,  1, 34, 27,\n",
            "        48, 31, 40,  3, 46,  1, 34, 27, 30,  1, 46, 34, 31,  1, 27, 30, 48, 27,\n",
            "        40, 46, 27, 33, 31, 45,  1, 46, 34, 27, 46,  1, 51, 41, 47,  3, 48, 31,\n",
            "         1, 34, 27, 30,  8,  2,  0,  0, 18, 31,  1, 30, 35, 30, 40,  3, 46,  1,\n",
            "        45, 27, 51,  1, 27, 40, 51,  1, 39, 41, 44, 31,  1, 28, 47, 46,  1, 49,\n",
            "        31,  3, 48, 31,  1, 27, 38, 49, 27, 51, 45,  1, 28, 31, 31, 40,  1, 47,\n",
            "        40, 47, 45, 47, 27, 38, 38, 51,  1, 29, 41, 39, 39, 47, 40, 35, 29, 27,\n",
            "        46, 35, 48, 31,  1, 35, 40,  1, 27,  1, 44, 31, 45, 31, 44, 48, 31, 30,\n",
            "         1, 49, 27, 51,  6,  1, 27, 40, 30,  1, 19,  1, 47, 40, 30, 31, 44, 45,\n",
            "        46, 41, 41, 30,  1, 46, 34, 27, 46,  1, 34, 31,  1, 39, 31, 27, 40, 46,\n",
            "         1, 27,  1, 33, 44, 31, 27, 46,  1, 30, 31, 27, 38,  1, 39, 41, 44, 31,\n",
            "         1, 46, 34, 27, 40,  1, 46, 34, 27, 46,  8,  0, 19, 40,  1, 29, 41, 40,\n",
            "        45, 31, 43, 47, 31, 40, 29, 31,  6,  1, 19,  3, 39,  1, 35, 40, 29, 38,\n",
            "        35, 40, 31, 30,  1, 46, 41,  1, 44, 31, 45, 31, 44, 48, 31,  1, 27, 38,\n",
            "        38,  1, 36, 47, 30, 33, 39, 31, 40, 46, 45,  6,  1, 27,  1, 34, 27, 28,\n",
            "        35, 46,  1, 46, 34, 27, 46,  1, 34, 27, 45,  1, 41, 42, 31, 40, 31, 30,\n",
            "         1, 47, 42,  1, 39, 27, 40, 51,  1, 29, 47, 44, 35, 41, 47, 45,  1, 40,\n",
            "        27, 46, 47, 44, 31, 45,  1, 46, 41,  1, 39, 31,  1, 27, 40, 30,  1, 27,\n",
            "        38, 45, 41,  1, 39, 27, 30, 31,  1, 39, 31,  1, 46, 34, 31,  1, 48, 35,\n",
            "        29, 46, 35, 39,  1, 41, 32,  1, 40, 41, 46,  1, 27,  1, 32, 31, 49,  1,\n",
            "        48, 31, 46, 31, 44, 27, 40,  1, 28, 41, 44, 31, 45,  8,  0, 23, 34, 31,\n",
            "         1, 27, 28, 40, 41, 44, 39, 27, 38,  1, 39, 35, 40, 30,  1, 35, 45,  1,\n",
            "        43, 47, 35, 29, 37,  1, 46, 41,  1, 30, 31, 46, 31, 29, 46,  1, 27, 40,\n",
            "        30,  1, 27, 46, 46, 27, 29, 34,  1, 35, 46, 45, 31, 38, 32,  1, 46, 41,\n",
            "         1, 46, 34, 35, 45,  1, 43, 47, 27, 38, 35, 46, 51,  1, 49, 34, 31, 40,\n",
            "         1, 35, 46,  1, 27, 42, 42, 31, 27, 44, 45,  1, 35, 40,  1, 27,  1, 40,\n",
            "        41, 44, 39, 27, 38,  1, 42, 31, 44, 45, 41, 40,  6,  1, 27, 40, 30,  1,\n",
            "        45, 41,  1, 35, 46,  1, 29, 27, 39, 31,  1, 27, 28, 41, 47, 46,  1, 46,\n",
            "        34, 27, 46,  1, 35, 40,  1, 29, 41, 38, 38, 31, 33, 31,  1, 19,  1, 49,\n",
            "        27, 45,  1, 47, 40, 36, 47, 45, 46, 38, 51,  1, 27, 29, 29, 47, 45, 31,\n",
            "        30,  1, 41, 32,  1, 28, 31, 35, 40, 33,  1, 27,  1, 42, 41, 38, 35, 46,\n",
            "        35, 29, 35, 27, 40,  6,  1, 28, 31, 29, 27, 47, 45, 31,  1, 19,  1, 49,\n",
            "        27, 45,  1, 42, 44, 35, 48, 51,  1, 46, 41,  1, 46, 34, 31,  1, 45, 31,\n",
            "        29, 44, 31, 46,  1, 33, 44, 35, 31, 32, 45,  1, 41, 32,  1, 49, 35, 38,\n",
            "        30,  6,  1, 47, 40, 37, 40, 41, 49, 40,  1, 39, 31, 40,  8,  0, 20, 41,\n",
            "        45, 46,  1, 41, 32,  1, 46, 34, 31,  1, 29, 41, 40, 32, 35, 30, 31, 40,\n",
            "        29, 31, 45,  1, 49, 31, 44, 31,  1, 47, 40, 45, 41, 47, 33, 34, 46, 53,\n",
            "        32, 44, 31, 43, 47, 31, 40, 46, 38, 51,  1, 19,  1, 34, 27, 48, 31,  1,\n",
            "        32, 31, 35, 33, 40, 31, 30,  1, 45, 38, 31, 31, 42,  6,  1, 42, 44, 31,\n",
            "        41, 29, 29, 47, 42, 27, 46, 35, 41, 40,  6,  1, 41, 44,  1, 27,  1, 34,\n",
            "        41, 45, 46, 35, 38, 31,  1, 38, 31, 48])\n"
          ]
        }
      ]
    },
    {
      "cell_type": "code",
      "source": [
        "# Let's now split up the data into train and validation sets\n",
        "n = int(0.9*len(data)) # first 90% will be train, rest val\n",
        "train_data = data[:n]\n",
        "val_data = data[n:]"
      ],
      "metadata": {
        "id": "f_WIXqxz0lU5"
      },
      "execution_count": 26,
      "outputs": []
    },
    {
      "cell_type": "code",
      "source": [
        "block_size = 8\n",
        "train_data[:block_size+1]"
      ],
      "metadata": {
        "colab": {
          "base_uri": "https://localhost:8080/",
          "height": 0
        },
        "id": "TD5Bj8Y6IAD4",
        "outputId": "ff50bdb2-1f92-439d-c257-0185324afc8d"
      },
      "execution_count": 27,
      "outputs": [
        {
          "output_type": "execute_result",
          "data": {
            "text/plain": [
              "tensor([23, 34, 31,  1, 17, 44, 31, 27, 46])"
            ]
          },
          "metadata": {},
          "execution_count": 27
        }
      ]
    },
    {
      "cell_type": "code",
      "source": [
        "x = train_data[:block_size]\n",
        "y = train_data[1:block_size+1]\n",
        "for t in range(block_size):\n",
        "    context = x[:t+1]\n",
        "    target = y[t]\n",
        "    print(f\"when input is {context} the target: {target}\")"
      ],
      "metadata": {
        "colab": {
          "base_uri": "https://localhost:8080/",
          "height": 0
        },
        "id": "9HXDe8vGJCEn",
        "outputId": "240f9be3-19ff-46e2-d19c-165e094b81e4"
      },
      "execution_count": 28,
      "outputs": [
        {
          "output_type": "stream",
          "name": "stdout",
          "text": [
            "when input is tensor([23]) the target: 34\n",
            "when input is tensor([23, 34]) the target: 31\n",
            "when input is tensor([23, 34, 31]) the target: 1\n",
            "when input is tensor([23, 34, 31,  1]) the target: 17\n",
            "when input is tensor([23, 34, 31,  1, 17]) the target: 44\n",
            "when input is tensor([23, 34, 31,  1, 17, 44]) the target: 31\n",
            "when input is tensor([23, 34, 31,  1, 17, 44, 31]) the target: 27\n",
            "when input is tensor([23, 34, 31,  1, 17, 44, 31, 27]) the target: 46\n"
          ]
        }
      ]
    },
    {
      "cell_type": "code",
      "source": [
        "torch.manual_seed(1337)\n",
        "batch_size = 4 # how many independent sequences will we process in parallel?\n",
        "block_size = 8 # what is the maximum context length for predictions?\n",
        "\n",
        "def get_batch(split):\n",
        "    # generate a small batch of data of inputs x and targets y\n",
        "    data = train_data if split == 'train' else val_data\n",
        "    ix = torch.randint(len(data) - block_size, (batch_size,))\n",
        "    x = torch.stack([data[i:i+block_size] for i in ix])\n",
        "    y = torch.stack([data[i+1:i+block_size+1] for i in ix])\n",
        "    return x, y\n",
        "\n",
        "xb, yb = get_batch('train')\n",
        "print('inputs:')\n",
        "print(xb.shape)\n",
        "print(xb)\n",
        "print('targets:')\n",
        "print(yb.shape)\n",
        "print(yb)\n",
        "\n",
        "print('----')\n",
        "\n",
        "for b in range(batch_size): # batch dimension\n",
        "    for t in range(block_size): # time dimension\n",
        "        context = xb[b, :t+1]\n",
        "        target = yb[b,t]\n",
        "        print(f\"when input is {context.tolist()} the target: {target}\")"
      ],
      "metadata": {
        "colab": {
          "base_uri": "https://localhost:8080/",
          "height": 0
        },
        "id": "Q3k1Czf7LuA9",
        "outputId": "6cb44241-668f-4e61-e885-5b862ef76eba"
      },
      "execution_count": 29,
      "outputs": [
        {
          "output_type": "stream",
          "name": "stdout",
          "text": [
            "inputs:\n",
            "torch.Size([4, 8])\n",
            "tensor([[47, 40, 45, 41, 47, 33, 34, 46],\n",
            "        [39,  6,  1, 27, 44, 31,  1, 47],\n",
            "        [33, 39, 31, 40, 46, 45,  6,  1],\n",
            "        [ 1, 34, 41, 45, 46, 35, 38, 31]])\n",
            "targets:\n",
            "torch.Size([4, 8])\n",
            "tensor([[40, 45, 41, 47, 33, 34, 46, 53],\n",
            "        [ 6,  1, 27, 44, 31,  1, 47, 45],\n",
            "        [39, 31, 40, 46, 45,  6,  1, 27],\n",
            "        [34, 41, 45, 46, 35, 38, 31,  1]])\n",
            "----\n",
            "when input is [47] the target: 40\n",
            "when input is [47, 40] the target: 45\n",
            "when input is [47, 40, 45] the target: 41\n",
            "when input is [47, 40, 45, 41] the target: 47\n",
            "when input is [47, 40, 45, 41, 47] the target: 33\n",
            "when input is [47, 40, 45, 41, 47, 33] the target: 34\n",
            "when input is [47, 40, 45, 41, 47, 33, 34] the target: 46\n",
            "when input is [47, 40, 45, 41, 47, 33, 34, 46] the target: 53\n",
            "when input is [39] the target: 6\n",
            "when input is [39, 6] the target: 1\n",
            "when input is [39, 6, 1] the target: 27\n",
            "when input is [39, 6, 1, 27] the target: 44\n",
            "when input is [39, 6, 1, 27, 44] the target: 31\n",
            "when input is [39, 6, 1, 27, 44, 31] the target: 1\n",
            "when input is [39, 6, 1, 27, 44, 31, 1] the target: 47\n",
            "when input is [39, 6, 1, 27, 44, 31, 1, 47] the target: 45\n",
            "when input is [33] the target: 39\n",
            "when input is [33, 39] the target: 31\n",
            "when input is [33, 39, 31] the target: 40\n",
            "when input is [33, 39, 31, 40] the target: 46\n",
            "when input is [33, 39, 31, 40, 46] the target: 45\n",
            "when input is [33, 39, 31, 40, 46, 45] the target: 6\n",
            "when input is [33, 39, 31, 40, 46, 45, 6] the target: 1\n",
            "when input is [33, 39, 31, 40, 46, 45, 6, 1] the target: 27\n",
            "when input is [1] the target: 34\n",
            "when input is [1, 34] the target: 41\n",
            "when input is [1, 34, 41] the target: 45\n",
            "when input is [1, 34, 41, 45] the target: 46\n",
            "when input is [1, 34, 41, 45, 46] the target: 35\n",
            "when input is [1, 34, 41, 45, 46, 35] the target: 38\n",
            "when input is [1, 34, 41, 45, 46, 35, 38] the target: 31\n",
            "when input is [1, 34, 41, 45, 46, 35, 38, 31] the target: 1\n"
          ]
        }
      ]
    },
    {
      "cell_type": "code",
      "source": [
        "print(xb) # our input to the transformer"
      ],
      "metadata": {
        "colab": {
          "base_uri": "https://localhost:8080/",
          "height": 0
        },
        "id": "qpyyAeIzQjlO",
        "outputId": "d66a7540-0171-4e19-84bd-bde10caec674"
      },
      "execution_count": 30,
      "outputs": [
        {
          "output_type": "stream",
          "name": "stdout",
          "text": [
            "tensor([[47, 40, 45, 41, 47, 33, 34, 46],\n",
            "        [39,  6,  1, 27, 44, 31,  1, 47],\n",
            "        [33, 39, 31, 40, 46, 45,  6,  1],\n",
            "        [ 1, 34, 41, 45, 46, 35, 38, 31]])\n"
          ]
        }
      ]
    },
    {
      "cell_type": "code",
      "source": [
        "import torch\n",
        "import torch.nn as nn\n",
        "from torch.nn import functional as F\n",
        "torch.manual_seed(1337)\n",
        "\n",
        "class BigramLanguageModel(nn.Module):\n",
        "\n",
        "    def __init__(self, vocab_size):\n",
        "        super().__init__()\n",
        "        # each token directly reads off the logits for the next token from a lookup table\n",
        "        self.token_embedding_table = nn.Embedding(vocab_size, vocab_size)\n",
        "\n",
        "    def forward(self, idx, targets=None):\n",
        "\n",
        "        # idx and targets are both (B,T) tensor of integers\n",
        "        logits = self.token_embedding_table(idx) # (B,T,C)\n",
        "\n",
        "        if targets is None:\n",
        "            loss = None\n",
        "        else:\n",
        "            B, T, C = logits.shape\n",
        "            logits = logits.view(B*T, C)\n",
        "            targets = targets.view(B*T)\n",
        "            loss = F.cross_entropy(logits, targets)\n",
        "\n",
        "        return logits, loss\n",
        "\n",
        "    def generate(self, idx, max_new_tokens):\n",
        "        # idx is (B, T) array of indices in the current context\n",
        "        for _ in range(max_new_tokens):\n",
        "            # get the predictions\n",
        "            logits, loss = self(idx)\n",
        "            # focus only on the last time step\n",
        "            logits = logits[:, -1, :] # becomes (B, C)\n",
        "            # apply softmax to get probabilities\n",
        "            probs = F.softmax(logits, dim=-1) # (B, C)\n",
        "            # sample from the distribution\n",
        "            idx_next = torch.multinomial(probs, num_samples=1) # (B, 1)\n",
        "            # append sampled index to the running sequence\n",
        "            idx = torch.cat((idx, idx_next), dim=1) # (B, T+1)\n",
        "        return idx\n",
        "\n",
        "m = BigramLanguageModel(vocab_size)\n",
        "logits, loss = m(xb, yb)\n",
        "print(logits.shape)\n",
        "print(loss)\n",
        "\n",
        "print(decode(m.generate(idx = torch.zeros((1, 1), dtype=torch.long), max_new_tokens=100)[0].tolist()))\n"
      ],
      "metadata": {
        "colab": {
          "base_uri": "https://localhost:8080/",
          "height": 0
        },
        "id": "nql_1ER53oCf",
        "outputId": "36a85a79-be32-4eae-d111-bab506b2ceac"
      },
      "execution_count": 31,
      "outputs": [
        {
          "output_type": "stream",
          "name": "stdout",
          "text": [
            "torch.Size([32, 54])\n",
            "tensor(4.2146, grad_fn=<NllLossBackward0>)\n",
            "\n",
            "MmCFGWGgWo)heciuxjf)xl2 (qmhi-ore2t[' ]2auot9)—z(jR\n",
            "1Mo—h—WeHwdMrFfx(m F(y]C;TW2quz'TW5ot\n",
            ")(HSlmqH—9\n"
          ]
        }
      ]
    },
    {
      "cell_type": "code",
      "source": [
        "# create a PyTorch optimizer\n",
        "optimizer = torch.optim.AdamW(m.parameters(), lr=1e-3)"
      ],
      "metadata": {
        "id": "eTyJ8qAaDdiF"
      },
      "execution_count": 15,
      "outputs": []
    },
    {
      "cell_type": "code",
      "source": [
        "#batch_size = 32\n",
        "#for steps in range(100): # increase number of steps for good results...\n",
        "\n",
        "    # sample a batch of data\n",
        "    #xb, yb = get_batch('train')\n",
        "\n",
        "    # evaluate the loss\n",
        "    #logits, loss = m(xb, yb)\n",
        "    #optimizer.zero_grad(set_to_none=True)\n",
        "    #loss.backward()\n",
        "    #optimizer.step()\n",
        "\n",
        "#print(loss.item())\n"
      ],
      "metadata": {
        "colab": {
          "base_uri": "https://localhost:8080/"
        },
        "id": "Hs4kI8YdEkQj",
        "outputId": "42ded55c-2983-4d91-c528-675b2edfa849"
      },
      "execution_count": null,
      "outputs": [
        {
          "output_type": "stream",
          "name": "stdout",
          "text": [
            "4.65630578994751\n"
          ]
        }
      ]
    },
    {
      "cell_type": "code",
      "source": [
        "import matplotlib.pyplot as plt\n",
        "losses = []\n",
        "\n",
        "batch_size = 32\n",
        "for steps in range(6000): # increase number of steps for good results...\n",
        "\n",
        "    # sample a batch of data\n",
        "    xb, yb = get_batch('train')\n",
        "\n",
        "    # evaluate the loss\n",
        "    logits, loss = m(xb, yb)\n",
        "    optimizer.zero_grad(set_to_none=True)\n",
        "    loss.backward()\n",
        "    optimizer.step()\n",
        "\n",
        "    losses.append(loss.item())\n",
        "\n",
        "print(loss.item())\n",
        "\n",
        "plt.plot(range(len(losses)), losses)\n",
        "plt.xlabel(\"Training step\")\n",
        "plt.ylabel(\"Training loss\")\n",
        "plt.title(\"Bigram training loss over time\")\n",
        "plt.show()"
      ],
      "metadata": {
        "colab": {
          "base_uri": "https://localhost:8080/",
          "height": 489
        },
        "outputId": "5d255a73-c54e-486a-a2da-3f05d6ce8e91",
        "id": "5pUddNxR2XuE"
      },
      "execution_count": 16,
      "outputs": [
        {
          "output_type": "stream",
          "name": "stdout",
          "text": [
            "2.6574454307556152\n"
          ]
        },
        {
          "output_type": "display_data",
          "data": {
            "text/plain": [
              "<Figure size 640x480 with 1 Axes>"
            ],
            "image/png": "[encoded data removed]"
          },
          "metadata": {}
        }
      ]
    },
    {
      "cell_type": "code",
      "source": [],
      "metadata": {
        "id": "MYoFNzks6ZOB"
      },
      "execution_count": null,
      "outputs": []
    },
    {
      "cell_type": "code",
      "source": [
        "import matplotlib.pyplot as plt\n",
        "losses = []\n",
        "\n",
        "batch_size = 32\n",
        "for steps in range(12000): # increase number of steps for good results...\n",
        "\n",
        "    # sample a batch of data\n",
        "    xb, yb = get_batch('train')\n",
        "\n",
        "    # evaluate the loss\n",
        "    logits, loss = m(xb, yb)\n",
        "    optimizer.zero_grad(set_to_none=True)\n",
        "    loss.backward()\n",
        "    optimizer.step()\n",
        "\n",
        "    losses.append(loss.item())\n",
        "\n",
        "print(loss.item())\n",
        "\n",
        "plt.plot(range(len(losses)), losses)\n",
        "plt.xlabel(\"Training step\")\n",
        "plt.ylabel(\"Training loss\")\n",
        "plt.title(\"Bigram training loss over time\")\n",
        "plt.show()"
      ],
      "metadata": {
        "colab": {
          "base_uri": "https://localhost:8080/",
          "height": 489
        },
        "outputId": "53b75c6d-02ce-420f-9a80-e6b577e150cd",
        "id": "vrKdrwSG6ZqT"
      },
      "execution_count": 32,
      "outputs": [
        {
          "output_type": "stream",
          "name": "stdout",
          "text": [
            "4.474192142486572\n"
          ]
        },
        {
          "output_type": "display_data",
          "data": {
            "text/plain": [
              "<Figure size 640x480 with 1 Axes>"
            ],
            "image/png": "[encoded data removed]"
          },
          "metadata": {}
        }
      ]
    },
    {
      "cell_type": "code",
      "source": [
        "print(decode(m.generate(idx = torch.zeros((1, 1), dtype=torch.long), max_new_tokens=500)[0].tolist()))"
      ],
      "metadata": {
        "colab": {
          "base_uri": "https://localhost:8080/",
          "height": 0
        },
        "id": "EcVIDWAZEtjN",
        "outputId": "84eca5cd-4361-4f73-97ca-46314c8ec9c1"
      },
      "execution_count": 33,
      "outputs": [
        {
          "output_type": "stream",
          "name": "stdout",
          "text": [
            "\n",
            "Epivibph5S \" ('—,jvww\"]yF-q5s2.;2..9hT'gnfxF;qi)n5ajnwt—t;x)l;tT)—FCyEsFzrbCy—,—.)xFSff5S—IciIxC1zfzgmnE[HkhT[c1dynw-qGnvzgd.—bpms\n",
            "e—92xeecFvMjE1lsjWGopTIyCs.udGsi\"cdMaCfr)xan\"d;iiGE1Mso(2gmz\n",
            "—Wdx5eMIkyiiCyEnwdG.n)'5Twd5—Wd—WuiuIH,'s2M-dc1dndGs—h)\n",
            "xhFGr-u.zgTwm2M—c-. vlo\n",
            "euyIgmczWIGg1wdxdt;q-5M\n",
            "en1dGg—z(2Hy] -p\n",
            "bksmalvcMh—ke\n",
            "FSksWGdGTsjGnn(Tg'd—,1GoHqr)—.tMjotbz-pmzubxln(cxEnE-\"GTW—ISMFCyS-q5vHEhu(mc[Ipg-mz-M\"jMC)— .9GdWmC;]—9GfyC;29GISpSSF'FzC1dGS—h['-qr])ToG9veT'fvfi;z(b'll\n",
            "ee)—.v\n",
            "eHdGHkRWqiGe\n"
          ]
        }
      ]
    },
    {
      "cell_type": "markdown",
      "source": [
        "## The mathematical trick in self-attention"
      ],
      "metadata": {
        "id": "XinV8nmAnmKN"
      }
    },
    {
      "cell_type": "code",
      "source": [
        "# toy example illustrating how matrix multiplication can be used for a \"weighted aggregation\"\n",
        "torch.manual_seed(42)\n",
        "a = torch.tril(torch.ones(3, 3))\n",
        "a = a / torch.sum(a, 1, keepdim=True)\n",
        "b = torch.randint(0,10,(3,2)).float()\n",
        "c = a @ b\n",
        "print('a=')\n",
        "print(a)\n",
        "print('--')\n",
        "print('b=')\n",
        "print(b)\n",
        "print('--')\n",
        "print('c=')\n",
        "print(c)"
      ],
      "metadata": {
        "colab": {
          "base_uri": "https://localhost:8080/",
          "height": 0
        },
        "id": "tukiH-NbRBhA",
        "outputId": "98f75aa8-93f6-4ab3-aa22-e09a1d358866"
      },
      "execution_count": 34,
      "outputs": [
        {
          "output_type": "stream",
          "name": "stdout",
          "text": [
            "a=\n",
            "tensor([[1.0000, 0.0000, 0.0000],\n",
            "        [0.5000, 0.5000, 0.0000],\n",
            "        [0.3333, 0.3333, 0.3333]])\n",
            "--\n",
            "b=\n",
            "tensor([[2., 7.],\n",
            "        [6., 4.],\n",
            "        [6., 5.]])\n",
            "--\n",
            "c=\n",
            "tensor([[2.0000, 7.0000],\n",
            "        [4.0000, 5.5000],\n",
            "        [4.6667, 5.3333]])\n"
          ]
        }
      ]
    },
    {
      "cell_type": "code",
      "source": [
        "# consider the following toy example:\n",
        "\n",
        "torch.manual_seed(1337)\n",
        "B,T,C = 4,8,2 # batch, time, channels\n",
        "x = torch.randn(B,T,C)\n",
        "x.shape"
      ],
      "metadata": {
        "colab": {
          "base_uri": "https://localhost:8080/",
          "height": 0
        },
        "id": "Hs_E24uRE8kr",
        "outputId": "e341df45-92a2-46cd-89b4-1b44cfb53c45"
      },
      "execution_count": 35,
      "outputs": [
        {
          "output_type": "execute_result",
          "data": {
            "text/plain": [
              "torch.Size([4, 8, 2])"
            ]
          },
          "metadata": {},
          "execution_count": 35
        }
      ]
    },
    {
      "cell_type": "code",
      "source": [
        "# We want x[b,t] = mean_{i<=t} x[b,i]\n",
        "xbow = torch.zeros((B,T,C))\n",
        "for b in range(B):\n",
        "    for t in range(T):\n",
        "        xprev = x[b,:t+1] # (t,C)\n",
        "        xbow[b,t] = torch.mean(xprev, 0)\n"
      ],
      "metadata": {
        "id": "86NuXX0fn7ps"
      },
      "execution_count": 36,
      "outputs": []
    },
    {
      "cell_type": "code",
      "source": [
        "# version 2: using matrix multiply for a weighted aggregation\n",
        "wei = torch.tril(torch.ones(T, T))\n",
        "wei = wei / wei.sum(1, keepdim=True)\n",
        "xbow2 = wei @ x # (B, T, T) @ (B, T, C) ----> (B, T, C)\n",
        "torch.allclose(xbow, xbow2)"
      ],
      "metadata": {
        "colab": {
          "base_uri": "https://localhost:8080/",
          "height": 0
        },
        "id": "yhdOAd6-wXkZ",
        "outputId": "9bba4e87-9e83-4d2c-94fc-f9902eb8599d"
      },
      "execution_count": 37,
      "outputs": [
        {
          "output_type": "execute_result",
          "data": {
            "text/plain": [
              "False"
            ]
          },
          "metadata": {},
          "execution_count": 37
        }
      ]
    },
    {
      "cell_type": "code",
      "source": [
        "# version 3: use Softmax\n",
        "tril = torch.tril(torch.ones(T, T))\n",
        "wei = torch.zeros((T,T))\n",
        "wei = wei.masked_fill(tril == 0, float('-inf'))\n",
        "wei = F.softmax(wei, dim=-1)\n",
        "xbow3 = wei @ x\n",
        "torch.allclose(xbow, xbow3)\n"
      ],
      "metadata": {
        "colab": {
          "base_uri": "https://localhost:8080/",
          "height": 0
        },
        "id": "wOURrfG-ysoL",
        "outputId": "3b0e4551-183e-4e56-a267-c1482b033eff"
      },
      "execution_count": 38,
      "outputs": [
        {
          "output_type": "execute_result",
          "data": {
            "text/plain": [
              "False"
            ]
          },
          "metadata": {},
          "execution_count": 38
        }
      ]
    },
    {
      "cell_type": "code",
      "source": [
        "# version 4: self-attention!\n",
        "torch.manual_seed(1337)\n",
        "B,T,C = 4,8,32 # batch, time, channels\n",
        "x = torch.randn(B,T,C)\n",
        "\n",
        "# let's see a single Head perform self-attention\n",
        "head_size = 16\n",
        "key = nn.Linear(C, head_size, bias=False)\n",
        "query = nn.Linear(C, head_size, bias=False)\n",
        "value = nn.Linear(C, head_size, bias=False)\n",
        "k = key(x)   # (B, T, 16)\n",
        "q = query(x) # (B, T, 16)\n",
        "wei =  q @ k.transpose(-2, -1) # (B, T, 16) @ (B, 16, T) ---> (B, T, T)\n",
        "\n",
        "tril = torch.tril(torch.ones(T, T))\n",
        "#wei = torch.zeros((T,T))\n",
        "wei = wei.masked_fill(tril == 0, float('-inf'))\n",
        "wei = F.softmax(wei, dim=-1)\n",
        "\n",
        "v = value(x)\n",
        "out = wei @ v\n",
        "#out = wei @ x\n",
        "\n",
        "out.shape"
      ],
      "metadata": {
        "colab": {
          "base_uri": "https://localhost:8080/",
          "height": 0
        },
        "id": "EDarxEWIRMKq",
        "outputId": "c139f7fa-9761-4717-f6f1-20bc9867c751"
      },
      "execution_count": 39,
      "outputs": [
        {
          "output_type": "execute_result",
          "data": {
            "text/plain": [
              "torch.Size([4, 8, 16])"
            ]
          },
          "metadata": {},
          "execution_count": 39
        }
      ]
    },
    {
      "cell_type": "code",
      "source": [
        "wei[0]"
      ],
      "metadata": {
        "colab": {
          "base_uri": "https://localhost:8080/",
          "height": 0
        },
        "id": "vT1hdtzXCjgL",
        "outputId": "49da26ca-fc2a-4b99-bd88-9709e2c170d0"
      },
      "execution_count": 40,
      "outputs": [
        {
          "output_type": "execute_result",
          "data": {
            "text/plain": [
              "tensor([[1.0000, 0.0000, 0.0000, 0.0000, 0.0000, 0.0000, 0.0000, 0.0000],\n",
              "        [0.1574, 0.8426, 0.0000, 0.0000, 0.0000, 0.0000, 0.0000, 0.0000],\n",
              "        [0.2088, 0.1646, 0.6266, 0.0000, 0.0000, 0.0000, 0.0000, 0.0000],\n",
              "        [0.5792, 0.1187, 0.1889, 0.1131, 0.0000, 0.0000, 0.0000, 0.0000],\n",
              "        [0.0294, 0.1052, 0.0469, 0.0276, 0.7909, 0.0000, 0.0000, 0.0000],\n",
              "        [0.0176, 0.2689, 0.0215, 0.0089, 0.6812, 0.0019, 0.0000, 0.0000],\n",
              "        [0.1691, 0.4066, 0.0438, 0.0416, 0.1048, 0.2012, 0.0329, 0.0000],\n",
              "        [0.0210, 0.0843, 0.0555, 0.2297, 0.0573, 0.0709, 0.2423, 0.2391]],\n",
              "       grad_fn=<SelectBackward0>)"
            ]
          },
          "metadata": {},
          "execution_count": 40
        }
      ]
    },
    {
      "cell_type": "markdown",
      "source": [
        "Notes:\n",
        "- Attention is a **communication mechanism**. Can be seen as nodes in a directed graph looking at each other and aggregating information with a weighted sum from all nodes that point to them, with data-dependent weights.\n",
        "- There is no notion of space. Attention simply acts over a set of vectors. This is why we need to positionally encode tokens.\n",
        "- Each example across batch dimension is of course processed completely independently and never \"talk\" to each other\n",
        "- In an \"encoder\" attention block just delete the single line that does masking with `tril`, allowing all tokens to communicate. This block here is called a \"decoder\" attention block because it has triangular masking, and is usually used in autoregressive settings, like language modeling.\n",
        "- \"self-attention\" just means that the keys and values are produced from the same source as queries. In \"cross-attention\", the queries still get produced from x, but the keys and values come from some other, external source (e.g. an encoder module)\n",
        "- \"Scaled\" attention additional divides `wei` by 1/sqrt(head_size). This makes it so when input Q,K are unit variance, wei will be unit variance too and Softmax will stay diffuse and not saturate too much. Illustration below"
      ],
      "metadata": {
        "id": "M5CvobiQ0pLr"
      }
    },
    {
      "cell_type": "code",
      "source": [
        "k = torch.randn(B,T,head_size)\n",
        "q = torch.randn(B,T,head_size)\n",
        "wei = q @ k.transpose(-2, -1) * head_size**-0.5"
      ],
      "metadata": {
        "id": "4SNbLq5z3oBw"
      },
      "execution_count": 41,
      "outputs": []
    },
    {
      "cell_type": "code",
      "source": [
        "k.var()"
      ],
      "metadata": {
        "colab": {
          "base_uri": "https://localhost:8080/",
          "height": 0
        },
        "id": "Nl6I9n9IRTSo",
        "outputId": "94d06a09-c4ba-4d35-e7f1-70256e97b8f7"
      },
      "execution_count": 42,
      "outputs": [
        {
          "output_type": "execute_result",
          "data": {
            "text/plain": [
              "tensor(1.0449)"
            ]
          },
          "metadata": {},
          "execution_count": 42
        }
      ]
    },
    {
      "cell_type": "code",
      "source": [
        "q.var()"
      ],
      "metadata": {
        "colab": {
          "base_uri": "https://localhost:8080/",
          "height": 0
        },
        "id": "T1tQx7oeRvtc",
        "outputId": "29601edd-265a-478e-a71b-d2f8943b89df"
      },
      "execution_count": 43,
      "outputs": [
        {
          "output_type": "execute_result",
          "data": {
            "text/plain": [
              "tensor(1.0700)"
            ]
          },
          "metadata": {},
          "execution_count": 43
        }
      ]
    },
    {
      "cell_type": "code",
      "source": [
        "wei.var()"
      ],
      "metadata": {
        "colab": {
          "base_uri": "https://localhost:8080/",
          "height": 0
        },
        "id": "MLb_odHU3iKM",
        "outputId": "4bec4093-c588-4ea8-f9ec-a3e2cbbc6885"
      },
      "execution_count": 44,
      "outputs": [
        {
          "output_type": "execute_result",
          "data": {
            "text/plain": [
              "tensor(1.0918)"
            ]
          },
          "metadata": {},
          "execution_count": 44
        }
      ]
    },
    {
      "cell_type": "code",
      "source": [
        "torch.softmax(torch.tensor([0.1, -0.2, 0.3, -0.2, 0.5]), dim=-1)"
      ],
      "metadata": {
        "colab": {
          "base_uri": "https://localhost:8080/",
          "height": 0
        },
        "id": "JB82yzt44REI",
        "outputId": "633a29fc-50ca-4bbd-ff38-368c714ee3c9"
      },
      "execution_count": 45,
      "outputs": [
        {
          "output_type": "execute_result",
          "data": {
            "text/plain": [
              "tensor([0.1925, 0.1426, 0.2351, 0.1426, 0.2872])"
            ]
          },
          "metadata": {},
          "execution_count": 45
        }
      ]
    },
    {
      "cell_type": "code",
      "source": [
        "torch.softmax(torch.tensor([0.1, -0.2, 0.3, -0.2, 0.5])*8, dim=-1) # gets too peaky, converges to one-hot"
      ],
      "metadata": {
        "colab": {
          "base_uri": "https://localhost:8080/",
          "height": 0
        },
        "id": "Mpt8569BB9_f",
        "outputId": "d613fbff-9d72-48d5-ccf5-d4425a238604"
      },
      "execution_count": 46,
      "outputs": [
        {
          "output_type": "execute_result",
          "data": {
            "text/plain": [
              "tensor([0.0326, 0.0030, 0.1615, 0.0030, 0.8000])"
            ]
          },
          "metadata": {},
          "execution_count": 46
        }
      ]
    },
    {
      "cell_type": "code",
      "source": [
        "class LayerNorm1d: # (used to be BatchNorm1d)\n",
        "\n",
        "  def __init__(self, dim, eps=1e-5, momentum=0.1):\n",
        "    self.eps = eps\n",
        "    self.gamma = torch.ones(dim)\n",
        "    self.beta = torch.zeros(dim)\n",
        "\n",
        "  def __call__(self, x):\n",
        "    # calculate the forward pass\n",
        "    xmean = x.mean(1, keepdim=True) # batch mean\n",
        "    xvar = x.var(1, keepdim=True) # batch variance\n",
        "    xhat = (x - xmean) / torch.sqrt(xvar + self.eps) # normalize to unit variance\n",
        "    self.out = self.gamma * xhat + self.beta\n",
        "    return self.out\n",
        "\n",
        "  def parameters(self):\n",
        "    return [self.gamma, self.beta]\n",
        "\n",
        "torch.manual_seed(1337)\n",
        "module = LayerNorm1d(100)\n",
        "x = torch.randn(32, 100) # batch size 32 of 100-dimensional vectors\n",
        "x = module(x)\n",
        "x.shape"
      ],
      "metadata": {
        "colab": {
          "base_uri": "https://localhost:8080/",
          "height": 0
        },
        "id": "2Num7sX9CKOH",
        "outputId": "2e89d3b5-6907-4276-ef19-614ccd1b02ff"
      },
      "execution_count": 47,
      "outputs": [
        {
          "output_type": "execute_result",
          "data": {
            "text/plain": [
              "torch.Size([32, 100])"
            ]
          },
          "metadata": {},
          "execution_count": 47
        }
      ]
    },
    {
      "cell_type": "code",
      "source": [
        "x[:,0].mean(), x[:,0].std() # mean,std of one feature across all batch inputs"
      ],
      "metadata": {
        "colab": {
          "base_uri": "https://localhost:8080/",
          "height": 0
        },
        "id": "633T2cmnW1uk",
        "outputId": "8c0e23a5-3217-4efb-a794-a4c5a0e6b667"
      },
      "execution_count": 48,
      "outputs": [
        {
          "output_type": "execute_result",
          "data": {
            "text/plain": [
              "(tensor(0.1469), tensor(0.8803))"
            ]
          },
          "metadata": {},
          "execution_count": 48
        }
      ]
    },
    {
      "cell_type": "code",
      "source": [
        "x[0,:].mean(), x[0,:].std() # mean,std of a single input from the batch, of its features"
      ],
      "metadata": {
        "colab": {
          "base_uri": "https://localhost:8080/",
          "height": 0
        },
        "id": "LN9cK9BoXCYb",
        "outputId": "5527ee5a-8d49-4f6e-97eb-a3a1f8e50532"
      },
      "execution_count": 49,
      "outputs": [
        {
          "output_type": "execute_result",
          "data": {
            "text/plain": [
              "(tensor(-9.5367e-09), tensor(1.0000))"
            ]
          },
          "metadata": {},
          "execution_count": 49
        }
      ]
    },
    {
      "cell_type": "code",
      "source": [
        "# French to English translation example:\n",
        "\n",
        "# <--------- ENCODE ------------------><--------------- DECODE ----------------->\n",
        "# les réseaux de neurones sont géniaux! <START> neural networks are awesome!<END>\n",
        "\n"
      ],
      "metadata": {
        "id": "dRJH6wM_XFfU"
      },
      "execution_count": 50,
      "outputs": []
    },
    {
      "cell_type": "markdown",
      "source": [
        "### Full finished code, for reference\n",
        "\n",
        "You may want to refer directly to the git repo instead though."
      ],
      "metadata": {
        "id": "ZcvKeBXoZFOY"
      }
    },
    {
      "cell_type": "code",
      "source": [
        "import torch\n",
        "import torch.nn as nn\n",
        "from torch.nn import functional as F\n",
        "\n",
        "# hyperparameters\n",
        "batch_size = 16 # how many independent sequences will we process in parallel?\n",
        "block_size = 32 # what is the maximum context length for predictions?\n",
        "max_iters = 5000\n",
        "eval_interval = 100\n",
        "learning_rate = 1e-3\n",
        "device = 'cuda' if torch.cuda.is_available() else 'cpu'\n",
        "eval_iters = 200\n",
        "n_embd = 64\n",
        "n_head = 4\n",
        "n_layer = 4\n",
        "dropout = 0.0\n",
        "# ------------\n",
        "\n",
        "torch.manual_seed(1337)\n",
        "\n",
        "with open('/content/the_great_gatsby.txt', 'r', encoding='utf-8', errors='ignore') as f:\n",
        "    text = f.read()\n",
        "\n",
        "# here are all the unique characters that occur in this text\n",
        "chars = sorted(list(set(text)))\n",
        "vocab_size = len(chars)\n",
        "# create a mapping from characters to integers\n",
        "stoi = { ch:i for i,ch in enumerate(chars) }\n",
        "itos = { i:ch for i,ch in enumerate(chars) }\n",
        "encode = lambda s: [stoi[c] for c in s] # encoder: take a string, output a list of integers\n",
        "decode = lambda l: ''.join([itos[i] for i in l]) # decoder: take a list of integers, output a string\n",
        "\n",
        "# Train and test splits\n",
        "data = torch.tensor(encode(text), dtype=torch.long)\n",
        "n = int(0.9*len(data)) # first 90% will be train, rest val\n",
        "train_data = data[:n]\n",
        "val_data = data[n:]\n",
        "\n",
        "# data loading\n",
        "def get_batch(split):\n",
        "    # generate a small batch of data of inputs x and targets y\n",
        "    data = train_data if split == 'train' else val_data\n",
        "    ix = torch.randint(len(data) - block_size, (batch_size,))\n",
        "    x = torch.stack([data[i:i+block_size] for i in ix])\n",
        "    y = torch.stack([data[i+1:i+block_size+1] for i in ix])\n",
        "    x, y = x.to(device), y.to(device)\n",
        "    return x, y\n",
        "\n",
        "@torch.no_grad()\n",
        "def estimate_loss():\n",
        "    out = {}\n",
        "    model.eval()\n",
        "    for split in ['train', 'val']:\n",
        "        losses = torch.zeros(eval_iters)\n",
        "        for k in range(eval_iters):\n",
        "            X, Y = get_batch(split)\n",
        "            logits, loss = model(X, Y)\n",
        "            losses[k] = loss.item()\n",
        "        out[split] = losses.mean()\n",
        "    model.train()\n",
        "    return out\n",
        "\n",
        "class Head(nn.Module):\n",
        "    \"\"\" one head of self-attention \"\"\"\n",
        "\n",
        "    def __init__(self, head_size):\n",
        "        super().__init__()\n",
        "        self.key = nn.Linear(n_embd, head_size, bias=False)\n",
        "        self.query = nn.Linear(n_embd, head_size, bias=False)\n",
        "        self.value = nn.Linear(n_embd, head_size, bias=False)\n",
        "        self.register_buffer('tril', torch.tril(torch.ones(block_size, block_size)))\n",
        "\n",
        "        self.dropout = nn.Dropout(dropout)\n",
        "\n",
        "    def forward(self, x):\n",
        "        B,T,C = x.shape\n",
        "        k = self.key(x)   # (B,T,C)\n",
        "        q = self.query(x) # (B,T,C)\n",
        "        # compute attention scores (\"affinities\")\n",
        "        wei = q @ k.transpose(-2,-1) * C**-0.5 # (B, T, C) @ (B, C, T) -> (B, T, T)\n",
        "        wei = wei.masked_fill(self.tril[:T, :T] == 0, float('-inf')) # (B, T, T)\n",
        "        wei = F.softmax(wei, dim=-1) # (B, T, T)\n",
        "        wei = self.dropout(wei)\n",
        "        # perform the weighted aggregation of the values\n",
        "        v = self.value(x) # (B,T,C)\n",
        "        out = wei @ v # (B, T, T) @ (B, T, C) -> (B, T, C)\n",
        "        return out\n",
        "\n",
        "class MultiHeadAttention(nn.Module):\n",
        "    \"\"\" multiple heads of self-attention in parallel \"\"\"\n",
        "\n",
        "    def __init__(self, num_heads, head_size):\n",
        "        super().__init__()\n",
        "        self.heads = nn.ModuleList([Head(head_size) for _ in range(num_heads)])\n",
        "        self.proj = nn.Linear(n_embd, n_embd)\n",
        "        self.dropout = nn.Dropout(dropout)\n",
        "\n",
        "    def forward(self, x):\n",
        "        out = torch.cat([h(x) for h in self.heads], dim=-1)\n",
        "        out = self.dropout(self.proj(out))\n",
        "        return out\n",
        "\n",
        "class FeedFoward(nn.Module):\n",
        "    \"\"\" a simple linear layer followed by a non-linearity \"\"\"\n",
        "\n",
        "    def __init__(self, n_embd):\n",
        "        super().__init__()\n",
        "        self.net = nn.Sequential(\n",
        "            nn.Linear(n_embd, 4 * n_embd),\n",
        "            nn.ReLU(),\n",
        "            nn.Linear(4 * n_embd, n_embd),\n",
        "            nn.Dropout(dropout),\n",
        "        )\n",
        "\n",
        "    def forward(self, x):\n",
        "        return self.net(x)\n",
        "\n",
        "class Block(nn.Module):\n",
        "    \"\"\" Transformer block: communication followed by computation \"\"\"\n",
        "\n",
        "    def __init__(self, n_embd, n_head):\n",
        "        # n_embd: embedding dimension, n_head: the number of heads we'd like\n",
        "        super().__init__()\n",
        "        head_size = n_embd // n_head\n",
        "        self.sa = MultiHeadAttention(n_head, head_size)\n",
        "        self.ffwd = FeedFoward(n_embd)\n",
        "        self.ln1 = nn.LayerNorm(n_embd)\n",
        "        self.ln2 = nn.LayerNorm(n_embd)\n",
        "\n",
        "    def forward(self, x):\n",
        "        x = x + self.sa(self.ln1(x))\n",
        "        x = x + self.ffwd(self.ln2(x))\n",
        "        return x\n",
        "\n",
        "# super simple bigram model\n",
        "class BigramLanguageModel(nn.Module):\n",
        "\n",
        "    def __init__(self):\n",
        "        super().__init__()\n",
        "        # each token directly reads off the logits for the next token from a lookup table\n",
        "        self.token_embedding_table = nn.Embedding(vocab_size, n_embd)\n",
        "        self.position_embedding_table = nn.Embedding(block_size, n_embd)\n",
        "        self.blocks = nn.Sequential(*[Block(n_embd, n_head=n_head) for _ in range(n_layer)])\n",
        "        self.ln_f = nn.LayerNorm(n_embd) # final layer norm\n",
        "        self.lm_head = nn.Linear(n_embd, vocab_size)\n",
        "\n",
        "    def forward(self, idx, targets=None):\n",
        "        B, T = idx.shape\n",
        "\n",
        "        # idx and targets are both (B,T) tensor of integers\n",
        "        tok_emb = self.token_embedding_table(idx) # (B,T,C)\n",
        "        pos_emb = self.position_embedding_table(torch.arange(T, device=device)) # (T,C)\n",
        "        x = tok_emb + pos_emb # (B,T,C)\n",
        "        x = self.blocks(x) # (B,T,C)\n",
        "        x = self.ln_f(x) # (B,T,C)\n",
        "        logits = self.lm_head(x) # (B,T,vocab_size)\n",
        "\n",
        "        if targets is None:\n",
        "            loss = None\n",
        "        else:\n",
        "            B, T, C = logits.shape\n",
        "            logits = logits.view(B*T, C)\n",
        "            targets = targets.view(B*T)\n",
        "            loss = F.cross_entropy(logits, targets)\n",
        "\n",
        "        return logits, loss\n",
        "\n",
        "    def generate(self, idx, max_new_tokens):\n",
        "        # idx is (B, T) array of indices in the current context\n",
        "        for _ in range(max_new_tokens):\n",
        "            # crop idx to the last block_size tokens\n",
        "            idx_cond = idx[:, -block_size:]\n",
        "            # get the predictions\n",
        "            logits, loss = self(idx_cond)\n",
        "            # focus only on the last time step\n",
        "            logits = logits[:, -1, :] # becomes (B, C)\n",
        "            # apply softmax to get probabilities\n",
        "            probs = F.softmax(logits, dim=-1) # (B, C)\n",
        "            # sample from the distribution\n",
        "            idx_next = torch.multinomial(probs, num_samples=1) # (B, 1)\n",
        "            # append sampled index to the running sequence\n",
        "            idx = torch.cat((idx, idx_next), dim=1) # (B, T+1)\n",
        "        return idx\n",
        "\n",
        "model = BigramLanguageModel()\n",
        "m = model.to(device)\n",
        "# print the number of parameters in the model\n",
        "print(sum(p.numel() for p in m.parameters())/1e6, 'M parameters')\n",
        "\n",
        "# create a PyTorch optimizer\n",
        "optimizer = torch.optim.AdamW(model.parameters(), lr=learning_rate)\n",
        "\n",
        "for iter in range(max_iters):\n",
        "\n",
        "    # every once in a while evaluate the loss on train and val sets\n",
        "    if iter % eval_interval == 0 or iter == max_iters - 1:\n",
        "        losses = estimate_loss()\n",
        "        print(f\"step {iter}: train loss {losses['train']:.4f}, val loss {losses['val']:.4f}\")\n",
        "\n",
        "    # sample a batch of data\n",
        "    xb, yb = get_batch('train')\n",
        "\n",
        "    # evaluate the loss\n",
        "    logits, loss = model(xb, yb)\n",
        "    optimizer.zero_grad(set_to_none=True)\n",
        "    loss.backward()\n",
        "    optimizer.step()\n",
        "\n",
        "# generate from the model\n",
        "context = torch.zeros((1, 1), dtype=torch.long, device=device)\n",
        "print(decode(m.generate(context, max_new_tokens=2000)[0].tolist()))\n"
      ],
      "metadata": {
        "colab": {
          "base_uri": "https://localhost:8080/",
          "height": 0
        },
        "id": "hoelkOrFY8bN",
        "outputId": "4bc76bb6-86d2-4af7-df2e-635269f3b091"
      },
      "execution_count": 52,
      "outputs": [
        {
          "output_type": "stream",
          "name": "stdout",
          "text": [
            "0.20831 M parameters\n",
            "step 0: train loss 4.1063, val loss 4.1490\n",
            "step 100: train loss 2.3965, val loss 3.0048\n",
            "step 200: train loss 2.1376, val loss 3.1919\n",
            "step 300: train loss 1.7557, val loss 3.4047\n",
            "step 400: train loss 1.1604, val loss 3.9219\n",
            "step 500: train loss 0.6734, val loss 4.3598\n",
            "step 600: train loss 0.4049, val loss 4.8173\n",
            "step 700: train loss 0.3247, val loss 5.1559\n",
            "step 800: train loss 0.2759, val loss 5.6437\n",
            "step 900: train loss 0.2578, val loss 5.6152\n",
            "step 1000: train loss 0.2298, val loss 5.9897\n",
            "step 1100: train loss 0.2146, val loss 5.9903\n",
            "step 1200: train loss 0.2008, val loss 6.1626\n",
            "step 1300: train loss 0.1994, val loss 6.2597\n",
            "step 1400: train loss 0.1978, val loss 6.4065\n",
            "step 1500: train loss 0.1854, val loss 6.3917\n",
            "step 1600: train loss 0.1922, val loss 6.6338\n",
            "step 1700: train loss 0.1923, val loss 6.5861\n",
            "step 1800: train loss 0.1789, val loss 6.6856\n",
            "step 1900: train loss 0.1773, val loss 6.6796\n",
            "step 2000: train loss 0.1724, val loss 6.6667\n",
            "step 2100: train loss 0.1769, val loss 6.8185\n",
            "step 2200: train loss 0.1812, val loss 6.6027\n",
            "step 2300: train loss 0.1734, val loss 6.7324\n",
            "step 2400: train loss 0.1715, val loss 6.7631\n",
            "step 2500: train loss 0.1668, val loss 6.8458\n",
            "step 2600: train loss 0.1713, val loss 7.1473\n",
            "step 2700: train loss 0.1726, val loss 6.7201\n",
            "step 2800: train loss 0.1689, val loss 6.9259\n",
            "step 2900: train loss 0.1656, val loss 7.0048\n",
            "step 3000: train loss 0.1637, val loss 6.8689\n",
            "step 3100: train loss 0.1650, val loss 7.0673\n",
            "step 3200: train loss 0.1720, val loss 6.9686\n",
            "step 3300: train loss 0.1719, val loss 7.1266\n",
            "step 3400: train loss 0.1722, val loss 6.8618\n",
            "step 3500: train loss 0.1597, val loss 6.9827\n",
            "step 3600: train loss 0.1610, val loss 7.0736\n",
            "step 3700: train loss 0.1610, val loss 6.9268\n",
            "step 3800: train loss 0.1595, val loss 6.8028\n",
            "step 3900: train loss 0.1610, val loss 6.9308\n",
            "step 4000: train loss 0.1593, val loss 7.0899\n",
            "step 4100: train loss 0.1597, val loss 6.9957\n",
            "step 4200: train loss 0.1585, val loss 7.0054\n",
            "step 4300: train loss 0.1644, val loss 6.9863\n",
            "step 4400: train loss 0.1775, val loss 7.0993\n",
            "step 4500: train loss 0.1606, val loss 7.1781\n",
            "step 4600: train loss 0.1592, val loss 7.3294\n",
            "step 4700: train loss 0.1587, val loss 7.2662\n",
            "step 4800: train loss 0.1539, val loss 7.2435\n",
            "step 4900: train loss 0.1563, val loss 7.1598\n",
            "step 4999: train loss 0.1572, val loss 7.2996\n",
            "\n",
            "\"Whenever you feel like criticizing any one,\" he told me, \"just remember that all the people in this world haven't had the advantages that you've had.\"\n",
            "\n",
            "He didn't say any more but we've always been unusually communicative in a reserved way, and I understood that he meant a great deal more than that.\n",
            "In consequence, I'm inclined to reserve all judgments, a habit that has opened up many curious natures to me and also made me the victim of not a few veteran bores.\n",
            "The abnormal mind is quick to detect and attach itself to this quality when it appears in a normal person, and so it came about that in college I was unjustly accused of being a politician, because I was privy to the secret griefs of wild, unknown men.\n",
            "Most of the consequence, I'm inclined to reserve all judgments, a habit that has opened up many curious natures to me and also made me the victim of not a few veteran bores.\n",
            "The abnormal mind is quick to detect and attach itself to this quality when it appears in a normal porestion way, and I understood that he meant a great deal more than that.\n",
            "In consequence, I'm inclined to reserve all judgments icatived serve way, and I understood that he meant a great deal more than that.\n",
            "In consequence, I'm inclined to reserve all judgments, a habit that has opened up many curious natures to me and also made me the victim of not a few veteran bores.\n",
            "The abnormal mind is quick to detect and attach itself to this quality when it appears in a normal person, and so it came about that in college I was unjustly accused of being a politician, because I was privy to the secret griefs of wild, unknown men.\n",
            "Most of the confidences were unsought—frequently I have feigned sleep, preoccupation, or a hostile levity when I realized by some unmistakable sign that an intimate revelation was quivering on the horizon;\n",
            "for the intimate revelations of young men, or at least the terms in which they express them, are usually plagiaristic and marred by obvious suppressions.\n",
            "Reserving judgments i\n"
          ]
        }
      ]
    },
    {
      "cell_type": "code",
      "source": [],
      "metadata": {
        "id": "fjjvMifYZf7x"
      },
      "execution_count": null,
      "outputs": []
    }
  ]
}